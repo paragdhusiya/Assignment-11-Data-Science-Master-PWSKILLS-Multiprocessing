{
 "cells": [
  {
   "cell_type": "markdown",
   "metadata": {},
   "source": [
    "Q1. What is multiprocessing in python? Why is it useful?"
   ]
  },
  {
   "cell_type": "code",
   "execution_count": 1,
   "metadata": {},
   "outputs": [],
   "source": [
    "# Multiprocessing in Python:\n",
    "\n",
    "# Multiprocessing refers to the concurrent execution of multiple processes,\n",
    "# where each process runs independently with its own memory space.\n",
    "\n",
    "# Why Multiprocessing is Useful:\n",
    "\n",
    "# 1. Parallelism:\n",
    "#    Multiprocessing allows the parallel execution of tasks on different CPU cores,\n",
    "#    leading to improved performance for CPU-bound tasks.\n",
    "\n",
    "# 2. Isolation:\n",
    "#    Each process has its own memory space, preventing issues like race conditions\n",
    "#    and data corruption that can occur when threads share the same memory.\n",
    "\n",
    "# In summary, multiprocessing is beneficial for achieving parallelism,\n",
    "# improving performance, ensuring isolation, and addressing limitations\n",
    "# imposed by the Global Interpreter Lock in certain scenarios.\n"
   ]
  },
  {
   "cell_type": "markdown",
   "metadata": {},
   "source": [
    "Q2. What are the differences between multiprocessing and multithreading?"
   ]
  },
  {
   "cell_type": "code",
   "execution_count": 2,
   "metadata": {},
   "outputs": [],
   "source": [
    "# Differences Between Multiprocessing and Multithreading:\n",
    "\n",
    "# 1. Memory Space:\n",
    "#    - Multiprocessing: Each process has its own separate memory space.\n",
    "#    - Multithreading: Threads within the same process share the same memory space.\n",
    "\n",
    "# 2. Resource Utilization:\n",
    "#    - Multiprocessing: Processes run independently, utilizing multiple CPU cores.\n",
    "#    - Multithreading: Threads share resources within a process, suitable for I/O-bound tasks.\n",
    "\n",
    "# 3. Parallelism:\n",
    "#    - Multiprocessing: Provides true parallelism as processes run independently on different CPU cores.\n",
    "#    - Multithreading: Achieves concurrency; limited parallelism due to the Global Interpreter Lock (GIL).\n",
    "\n",
    "# In summary, the choice depends on task nature, isolation needs, and application requirements.\n",
    "# Multiprocessing is preferred for CPU-bound tasks; multithreading is suitable for I/O-bound tasks and simpler concurrent programming.\n"
   ]
  },
  {
   "cell_type": "markdown",
   "metadata": {},
   "source": [
    "Q3. Write a python code to create a process using the multiprocessing module."
   ]
  },
  {
   "cell_type": "code",
   "execution_count": 3,
   "metadata": {},
   "outputs": [
    {
     "name": "stdout",
     "output_type": "stream",
     "text": [
      "Main process exiting.\n"
     ]
    }
   ],
   "source": [
    "import multiprocessing\n",
    "import os\n",
    "import time\n",
    "\n",
    "def print_info():\n",
    "    # Display information about the current process\n",
    "    process_id = os.getpid()\n",
    "    process_name = multiprocessing.current_process().name\n",
    "    print(f\"Process ID: {process_id}, Process Name: {process_name}\")\n",
    "    time.sleep(2)\n",
    "    print(\"Process completed.\")\n",
    "\n",
    "if __name__ == \"__main__\":\n",
    "    # Create a multiprocessing process\n",
    "    my_process = multiprocessing.Process(target=print_info, name=\"InfoProcess\")\n",
    "\n",
    "    # Start the process\n",
    "    my_process.start()\n",
    "\n",
    "    # Wait for the process to finish\n",
    "    my_process.join()\n",
    "\n",
    "    print(\"Main process exiting.\")\n"
   ]
  },
  {
   "cell_type": "markdown",
   "metadata": {},
   "source": [
    "Q4. What is a multiprocessing pool in python? Why is it used?"
   ]
  },
  {
   "cell_type": "code",
   "execution_count": null,
   "metadata": {},
   "outputs": [],
   "source": [
    "# Multiprocessing Pool in Python:\n",
    "\n",
    "# A multiprocessing pool is a mechanism for parallelizing the execution of a function across multiple inputs or tasks.\n",
    "# It is provided by the `multiprocessing` module in Python.\n",
    "\n",
    "\n",
    "import multiprocessing\n",
    "\n",
    "def calculate_square(number):\n",
    "    return number * number\n",
    "\n",
    "if __name__ == \"__main__\":\n",
    "    # Create a multiprocessing pool with 3 worker processes\n",
    "    with multiprocessing.Pool(processes=3) as pool:\n",
    "        # Input values\n",
    "        numbers = [1, 2, 3, 4, 5]\n",
    "\n",
    "        # Apply the function to each input value using the pool\n",
    "        results = pool.map(calculate_square, numbers)\n",
    "\n",
    "    print(\"Results:\", results)\n"
   ]
  },
  {
   "cell_type": "markdown",
   "metadata": {},
   "source": [
    "Q5. How can we create a pool of worker processes in python using the multiprocessing module?"
   ]
  },
  {
   "cell_type": "code",
   "execution_count": null,
   "metadata": {},
   "outputs": [],
   "source": [
    "import multiprocessing\n",
    "\n",
    "# Function to be executed by worker processes\n",
    "def square(number):\n",
    "    return number * number\n",
    "\n",
    "if __name__ == \"__main__\":\n",
    "    # Create a multiprocessing pool with, for example, 3 worker processes\n",
    "    with multiprocessing.Pool(processes=3) as pool:\n",
    "        # Input data\n",
    "        numbers = [1, 2, 3, 4, 5]\n",
    "\n",
    "        # Apply the function to each input value using the pool.map method\n",
    "        results = pool.map(square, numbers)\n",
    "\n",
    "    # The pool is automatically closed and resources are released when exiting the 'with' block\n",
    "\n",
    "    # Print the results\n",
    "    print(\"Results:\", results)\n"
   ]
  },
  {
   "cell_type": "markdown",
   "metadata": {},
   "source": [
    "Q6. Write a python program to create 4 processes, each process should print a different number using the\n",
    "multiprocessing module in python."
   ]
  },
  {
   "cell_type": "code",
   "execution_count": null,
   "metadata": {},
   "outputs": [],
   "source": [
    "import multiprocessing\n",
    "\n",
    "# Function to print a number\n",
    "def print_number(number):\n",
    "    print(f\"Process {number}: My process ID is {multiprocessing.current_process().pid}\")\n",
    "\n",
    "if __name__ == \"__main__\":\n",
    "    # Create a list of numbers for each process\n",
    "    process_numbers = [1, 2, 3, 4]\n",
    "\n",
    "    # Create a multiprocessing pool with 4 processes\n",
    "    with multiprocessing.Pool(processes=4) as pool:\n",
    "        # Use the pool.starmap method to apply the function to each process with its corresponding number\n",
    "        pool.starmap(print_number, [(num,) for num in process_numbers])\n",
    "\n",
    "    # The pool is automatically closed and resources are released when exiting the 'with' block\n",
    "    print(\"Main process exiting.\")\n"
   ]
  }
 ],
 "metadata": {
  "kernelspec": {
   "display_name": "Python 3",
   "language": "python",
   "name": "python3"
  },
  "language_info": {
   "codemirror_mode": {
    "name": "ipython",
    "version": 3
   },
   "file_extension": ".py",
   "mimetype": "text/x-python",
   "name": "python",
   "nbconvert_exporter": "python",
   "pygments_lexer": "ipython3",
   "version": "3.11.3"
  }
 },
 "nbformat": 4,
 "nbformat_minor": 2
}
